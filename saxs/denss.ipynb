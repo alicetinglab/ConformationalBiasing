{
 "cells": [
  {
   "cell_type": "code",
   "execution_count": null,
   "metadata": {},
   "outputs": [],
   "source": []
  },
  {
   "cell_type": "code",
   "execution_count": null,
   "metadata": {},
   "outputs": [],
   "source": [
    "import os\n",
    "import shutil\n",
    "import subprocess\n",
    "\n",
    "from tqdm.notebook import tqdm\n",
    "\n",
    "#list all input files\n",
    "\n",
    "# use preprocessed_data\n",
    "input_file_dir = \"./lpla_trimmed\"\n",
    "\n",
    "input_files = []\n",
    "skip_files = []\n",
    "for root, dirs, files in os.walk(input_file_dir, topdown=False):\n",
    "    for name in files:\n",
    "        fp = os.path.join(root, name)\n",
    "        print(fp)\n",
    "\n",
    "        if fp.endswith(\".dat\"):\n",
    "            input_files.append(fp)\n",
    "        else:\n",
    "            skip_files.append(fp)\n",
    "\n",
    "#set output directory\n",
    "output_dir = \"denss_lpla\"\n",
    "os.makedirs(output_dir, exist_ok=True)\n",
    "\n",
    "#run denss through subprocess\n",
    "prefixes = []\n",
    "for file in tqdm(input_files):\n",
    "    #get file prefix to look for fitdata file later\n",
    "    file_prefix = os.path.splitext(os.path.basename(file))[0]\n",
    "    prefixes.append(file_prefix)\n",
    "    outputs_exist = (file_prefix) in os.listdir(output_dir)\n",
    "\n",
    "    #run denss\n",
    "    if not outputs_exist:\n",
    "        subprocess.check_output(\n",
    "            f\"denss-all -f {file} -m S -j 16 -o {file_prefix}\",\n",
    "            shell=True,\n",
    "        )\n",
    "    else:\n",
    "        print(f\"Skipping {file_prefix}, analysis already completed...\")\n",
    "\n",
    "    file_prefix = os.path.splitext(os.path.basename(file))[0]\n",
    "\n",
    "    #move results to output directory\n",
    "    shutil.move(\n",
    "        os.path.join(\"./\", file_prefix), os.path.join(\"./\", output_dir, file_prefix)\n",
    "    )\n",
    "    fname = file_prefix + \"_fitdata.fit\"\n",
    "    shutil.move(os.path.join(\"./\", fname), os.path.join(\"./\", output_dir, fname))"
   ]
  }
 ],
 "metadata": {
  "kernelspec": {
   "display_name": "esmfold",
   "language": "python",
   "name": "python3"
  },
  "language_info": {
   "codemirror_mode": {
    "name": "ipython",
    "version": 3
   },
   "file_extension": ".py",
   "mimetype": "text/x-python",
   "name": "python",
   "nbconvert_exporter": "python",
   "pygments_lexer": "ipython3",
   "version": "3.9.21"
  }
 },
 "nbformat": 4,
 "nbformat_minor": 2
}
