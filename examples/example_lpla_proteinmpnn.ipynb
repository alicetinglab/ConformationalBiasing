{
 "cells": [
  {
   "cell_type": "markdown",
   "metadata": {},
   "source": [
    "## CB with ProteinMPNN"
   ]
  },
  {
   "cell_type": "code",
   "execution_count": 1,
   "metadata": {},
   "outputs": [],
   "source": [
    "from __future__ import annotations\n",
    "\n",
    "import sys\n",
    "import os\n",
    "import pandas as pd\n",
    "import matplotlib.pyplot as plt\n",
    "\n",
    "sys.path.append(\"../utilities/\")\n",
    "\n",
    "from tqdm.notebook import tqdm\n",
    "from colabdesign.mpnn import mk_mpnn_model\n",
    "from cbutils import aa_code, get_chain_seq, get_chain_seq_for_scoring, make_consensus_sequence, setup_aligner, alignment_to_mapping, mapping_to_sequence, mpnn_score, add_scaled_outputs\n",
    "\n",
    "os.environ[\"XLA_PYTHON_CLIENT_PREALLOCATE\"] = \"false\""
   ]
  },
  {
   "cell_type": "markdown",
   "metadata": {},
   "source": [
    "### Select structures and chains"
   ]
  },
  {
   "cell_type": "code",
   "execution_count": 2,
   "metadata": {},
   "outputs": [],
   "source": [
    "#setup input pdb files\n",
    "pdbs = {\n",
    "    \"open\": \"../pdbs/lpla/3a7r.pdb\",\n",
    "    \"closed\": \"../pdbs/lpla/1x2g.pdb\",\n",
    "}\n",
    "\n",
    "#identify which chains to use for scoring\n",
    "chains = {\n",
    "    'open':\"A\",\n",
    "    'closed':\"A\",\n",
    "}"
   ]
  },
  {
   "cell_type": "markdown",
   "metadata": {},
   "source": [
    "### Align sequences, generate mutants, and score"
   ]
  },
  {
   "cell_type": "code",
   "execution_count": null,
   "metadata": {},
   "outputs": [
    {
     "name": "stderr",
     "output_type": "stream",
     "text": [
      "WARNING:2025-10-17 17:22:26,199:jax._src.xla_bridge:850: An NVIDIA GPU may be present on this machine, but a CUDA-enabled jaxlib is not installed. Falling back to cpu.\n"
     ]
    },
    {
     "name": "stdout",
     "output_type": "stream",
     "text": [
      "lengths [337]\n"
     ]
    },
    {
     "data": {
      "application/vnd.jupyter.widget-view+json": {
       "model_id": "68aab3a5ff5e4d999c8544913713f9d2",
       "version_major": 2,
       "version_minor": 0
      },
      "text/plain": [
       "  0%|          | 0/6403 [00:00<?, ?it/s]"
      ]
     },
     "metadata": {},
     "output_type": "display_data"
    }
   ],
   "source": [
    "# get protein sequences from pdb files and form consensus sequence\n",
    "seqs = {pdb: get_chain_seq(pdbs[pdb], chains[pdb]) for pdb in pdbs}\n",
    "scoring_seqs = {pdb: get_chain_seq_for_scoring(pdbs[pdb], chains[pdb]) for pdb in pdbs} #skip any gaps\n",
    "\n",
    "con_seq = make_consensus_sequence(list(seqs.values()))\n",
    "\n",
    "# align all sequences to the consensus sequence\n",
    "aligner = setup_aligner()\n",
    "alignments = {pdb: aligner.align(con_seq, seq)[0] for pdb, seq in scoring_seqs.items()}\n",
    "\n",
    "# create mapping of positions from consensus sequence to each pdb sequence\n",
    "mappings = {\n",
    "    pdb: alignment_to_mapping(alignment) for pdb, alignment in alignments.items()\n",
    "}\n",
    "\n",
    "# create list of all possible single mutations of input sequence\n",
    "muts = []\n",
    "mut_seqs = []\n",
    "for i, aa in enumerate(con_seq):\n",
    "    for aa_new in aa_code:\n",
    "        if aa_new != aa:\n",
    "            mut_seqs.append(con_seq[:i] + aa_new + con_seq[i + 1 :])\n",
    "            muts.append(f\"{aa}{i+1}{aa_new}\")\n",
    "\n",
    "homooligomer = False  # if structure is a homooligomer\n",
    "fix_pos = None #don't fix any positions\n",
    "inverse = True  # whether to invert the fix pos selection\n",
    "model_name = \"v_48_020\"  #use default model checkpoint\n",
    "\n",
    "# initialize proteinMPNN model\n",
    "if \"mpnn_model\" not in dir():\n",
    "    mpnn_model = mk_mpnn_model(model_name)\n",
    "\n",
    "output_data = pd.DataFrame({'mut': muts, 'seq': mut_seqs})\n",
    "\n",
    "# for each pdb file, score all mutations and save scores relative to WT score\n",
    "for structure in pdbs:\n",
    "    output_scores = []\n",
    "\n",
    "    #load structure model\n",
    "    mpnn_model.prep_inputs(\n",
    "        pdb_filename=pdbs[structure],\n",
    "        chain=chains[structure],\n",
    "        homooligomer=homooligomer,\n",
    "        fix_pos=fix_pos,\n",
    "        inverse=inverse,\n",
    "        verbose=True,\n",
    "    )\n",
    "\n",
    "    #score wild type sequence\n",
    "    wt_seq = mapping_to_sequence(con_seq, scoring_seqs[structure], mappings[structure])\n",
    "    wt_score = mpnn_score(wt_seq, mpnn_model)\n",
    "\n",
    "    #score mutants\n",
    "    for mut_seq in tqdm(mut_seqs):\n",
    "        mapped_seq = mapping_to_sequence(\n",
    "            mut_seq, scoring_seqs[structure], mappings[structure]\n",
    "        )\n",
    "        score = mpnn_score(mapped_seq, mpnn_model)\n",
    "        output_scores.append(score - wt_score)\n",
    "\n",
    "    #save scores\n",
    "    output_data[\"pmpnn_\" + structure] = output_scores"
   ]
  },
  {
   "cell_type": "markdown",
   "metadata": {},
   "source": [
    "### Analysis"
   ]
  },
  {
   "cell_type": "code",
   "execution_count": null,
   "metadata": {},
   "outputs": [],
   "source": [
    "model = 'pmpnn'\n",
    "frac_mutants = 0.05\n",
    "\n",
    "#scale columns and calculate bias\n",
    "add_scaled_outputs(output_data, model, state1_col = 'open', state2_col = 'closed')\n",
    "\n",
    "#filter mutants by low scores\n",
    "output_data = output_data.dropna(subset = [f'{model}_state1_bias']).sort_values(by = f'{model}_state1_bias', ascending = False)\n",
    "passing_mutants = output_data[(output_data[f'{model}_state1_scaled'] > 0) | (output_data[f'{model}_state2_scaled'] > 0)]\n",
    "nonpassing = output_data[~((output_data[f'{model}_state1_scaled'] > 0) | (output_data[f'{model}_state2_scaled'] > 0))]\n",
    "\n",
    "# take top n biased mutants in each direction\n",
    "n_mutants_passing_filter = len(output_data[(output_data[f'{model}_state1_scaled'] > 0) | (output_data[f'{model}_state2_scaled'] > 0)])\n",
    "n_biased = round((frac_mutants/2) * n_mutants_passing_filter)\n",
    "\n",
    "state1_biased, neutral, state2_biased = passing_mutants[:n_biased], passing_mutants[n_biased:-n_biased], passing_mutants[-n_biased:]\n",
    "\n",
    "s1_set, s2_set, neutral_set, nonpassing_set = set(state1_biased['mut']), set(state2_biased['mut']), set(neutral['mut']), set(nonpassing['mut'])\n",
    "\n",
    "assignments = []\n",
    "for m in output_data['mut']:\n",
    "    if m in set(state1_biased['mut']):\n",
    "        assignment = 'state1'\n",
    "    elif m in set(state2_biased['mut']):\n",
    "        assignment = 'state2'\n",
    "    elif m in neutral_set:\n",
    "        assignment = 'neutral'\n",
    "    elif m in set(nonpassing['mut']):\n",
    "        assignment = 'low'\n",
    "    else:\n",
    "        assignment = None\n",
    "\n",
    "    assignments.append(assignment)\n",
    "\n",
    "#label mutants \n",
    "output_data[f'{model}_assignment'] = assignments\n",
    "\n",
    "cmap = {'state1': 'red', 'state2': 'blue', 'neutral': 'grey', 'low': 'lightgrey'}\n",
    "\n",
    "passing = output_data[output_data[f'{model}_assignment'] != 'low']\n",
    "nonpassing = output_data[output_data[f'{model}_assignment'] == 'low']\n",
    "\n",
    "state1_cutoff = output_data[output_data[f'{model}_assignment'] == 'state1'][f'{model}_state1_bias'].min()\n",
    "state2_cutoff = output_data[output_data[f'{model}_assignment'] == 'state2'][f'{model}_state2_bias'].min()\n",
    "\n",
    "plt.figure(figsize = (10,10))\n",
    "plt.title('Conformational Design Mutants (Top 5% mutants)')\n",
    "\n",
    "plt.scatter(passing[f'{model}_state1_scaled'], passing[f'{model}_state2_scaled'], marker = 'o', alpha = 0.7, edgecolor = 'black', c=[cmap[x] for x in passing[f'{model}_assignment']])\n",
    "plt.scatter(nonpassing[f'{model}_state1_scaled'], nonpassing[f'{model}_state2_scaled'], marker = 'o', alpha = 0.25, edgecolor = 'black', c=[cmap[x] for x in nonpassing[f'{model}_assignment']])\n",
    "\n",
    "# set limits to be equal on both axes\n",
    "xmin, xmax = plt.xlim()\n",
    "ymin, ymax = plt.ylim()\n",
    "\n",
    "umin, umax = min(xmin, ymin), max(xmax, ymax)\n",
    "plt.xlim(umin, umax)\n",
    "plt.ylim(umin, umax)\n",
    "\n",
    "#show cutoffs\n",
    "plt.plot([umin, 0], [0,0], color = 'black')\n",
    "plt.plot([0, 0], [umin,0], color = 'black')\n",
    "\n",
    "plt.plot([-state2_cutoff, umax-state2_cutoff], [0, umax], color = 'black')\n",
    "plt.plot([0, umax], [-state1_cutoff, umax -state1_cutoff], color = 'black')\n",
    "\n",
    "plt.xlabel(f'State 1 {model} Score')\n",
    "plt.ylabel(f\"State 2 {model} Score\")\n",
    "\n",
    "#label each section\n",
    "text_offset = 0.1\n",
    "plt.text(umax - text_offset, umax - text_offset, 'Neutral Mutants', horizontalalignment = 'right', verticalalignment = 'top')\n",
    "plt.text(umax - text_offset, umin + text_offset, 'State 1 Bias Predicted Mutants', horizontalalignment = 'right', verticalalignment = 'bottom')\n",
    "plt.text(umin + text_offset, umax - text_offset, 'State 2 Bias Predicted Mutants', horizontalalignment = 'left', verticalalignment = 'top')\n",
    "plt.text(umin + text_offset, umin + text_offset, 'Low Scoring Mutants', horizontalalignment = 'left', verticalalignment = 'bottom')"
   ]
  },
  {
   "cell_type": "markdown",
   "metadata": {},
   "source": [
    "#"
   ]
  }
 ],
 "metadata": {
  "kernelspec": {
   "display_name": "cbnew",
   "language": "python",
   "name": "python3"
  },
  "language_info": {
   "codemirror_mode": {
    "name": "ipython",
    "version": 3
   },
   "file_extension": ".py",
   "mimetype": "text/x-python",
   "name": "python",
   "nbconvert_exporter": "python",
   "pygments_lexer": "ipython3",
   "version": "3.11.13"
  }
 },
 "nbformat": 4,
 "nbformat_minor": 2
}
